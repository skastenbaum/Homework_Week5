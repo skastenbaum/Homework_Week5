{
 "cells": [
  {
   "cell_type": "code",
   "execution_count": 1,
   "id": "41446946-f5ec-43c5-96fd-ff6b41f34528",
   "metadata": {},
   "outputs": [],
   "source": [
    "## create the list here (create more cells if necessary)\n",
    "search_terms = [\"improper touching\",\n",
    "                \"self-medication\",\n",
    "\"self-prescribing\",\n",
    "\"opioid addiction\",\n",
    "\"harassment\",\n",
    "\"coercion\",\n",
    "\"sexual harrassment\",\n",
    "\"sex\",\n",
    "\"sexual favor\",\n",
    "\"abuse of trust\",\n",
    "\"opioid prescriptions in return for sex\",]"
   ]
  },
  {
   "cell_type": "code",
   "execution_count": 2,
   "id": "5061d4cd-856a-4514-8348-eb7fa81b01dd",
   "metadata": {},
   "outputs": [
    {
     "data": {
      "text/plain": [
       "['improper touching',\n",
       " 'self-medication',\n",
       " 'self-prescribing',\n",
       " 'opioid addiction',\n",
       " 'harassment',\n",
       " 'coercion',\n",
       " 'sexual harrassment',\n",
       " 'sex',\n",
       " 'sexual favor',\n",
       " 'abuse of trust',\n",
       " 'opioid prescriptions in return for sex']"
      ]
     },
     "execution_count": 2,
     "metadata": {},
     "output_type": "execute_result"
    }
   ],
   "source": [
    "search_terms"
   ]
  },
  {
   "cell_type": "code",
   "execution_count": 4,
   "id": "aeba035b-1c22-476f-a501-b22201c3d17e",
   "metadata": {},
   "outputs": [
    {
     "data": {
      "text/plain": [
       "list"
      ]
     },
     "execution_count": 4,
     "metadata": {},
     "output_type": "execute_result"
    }
   ],
   "source": [
    "## check the type\n",
    "type(search_terms)"
   ]
  },
  {
   "cell_type": "code",
   "execution_count": 5,
   "id": "ce73d7de-a44d-4755-897f-55a5dddf3a86",
   "metadata": {},
   "outputs": [
    {
     "data": {
      "text/plain": [
       "11"
      ]
     },
     "execution_count": 5,
     "metadata": {},
     "output_type": "execute_result"
    }
   ],
   "source": [
    "## how long is the list\n",
    "len(search_terms)"
   ]
  },
  {
   "cell_type": "code",
   "execution_count": 6,
   "id": "45532e43-349e-4676-a6d2-6d5b43451864",
   "metadata": {},
   "outputs": [],
   "source": [
    "## code it here\n",
    "donation_1 = {\"year\":\"2017\",\n",
    "             \"donor\":\"David H Koch Charitable Foundation\",\t\n",
    "             \"grantee\":\"City Center For Music And Drama\", \n",
    "             \"amount\":\"$15,000,000\"}"
   ]
  },
  {
   "cell_type": "code",
   "execution_count": 7,
   "id": "6a3a8ec1-7785-4bb2-a4ec-9858e5fa62a0",
   "metadata": {},
   "outputs": [
    {
     "data": {
      "text/plain": [
       "{'year': '2017',\n",
       " 'donor': 'David H Koch Charitable Foundation',\n",
       " 'grantee': 'City Center For Music And Drama',\n",
       " 'amount': '$15,000,000'}"
      ]
     },
     "execution_count": 7,
     "metadata": {},
     "output_type": "execute_result"
    }
   ],
   "source": [
    "donation_1"
   ]
  },
  {
   "cell_type": "code",
   "execution_count": 8,
   "id": "91e49782-cdce-4a4e-82fa-fbbb16a77ce8",
   "metadata": {},
   "outputs": [],
   "source": [
    "donation_2 = {\"year\":\"2013\",\n",
    "             \"donor\":\"Bradley Impact Fund Inc\",\t\n",
    "             \"grantee\":\"Young Americas Foundation\", \n",
    "             \"amount\":\"$11,000\"}"
   ]
  },
  {
   "cell_type": "code",
   "execution_count": 9,
   "id": "bcaaa608-4b5a-416d-beb1-8f39b1d9c070",
   "metadata": {},
   "outputs": [
    {
     "data": {
      "text/plain": [
       "{'year': '2013',\n",
       " 'donor': 'Bradley Impact Fund Inc',\n",
       " 'grantee': 'Young Americas Foundation',\n",
       " 'amount': '$11,000'}"
      ]
     },
     "execution_count": 9,
     "metadata": {},
     "output_type": "execute_result"
    }
   ],
   "source": [
    "donation_2"
   ]
  },
  {
   "cell_type": "code",
   "execution_count": 10,
   "id": "d44a9475-1a92-478d-b023-82e25f176c07",
   "metadata": {},
   "outputs": [],
   "source": [
    "donation_3 = {\"year\":\"2016\",\n",
    "             \"donor\":\"Mercer Family Foundation\",\t\n",
    "             \"grantee\":\"The Becket Fund\", \n",
    "             \"amount\":\"$250,000\"}"
   ]
  },
  {
   "cell_type": "code",
   "execution_count": 11,
   "id": "bbaacf38-9d61-4d7a-b6e6-8c70957878e5",
   "metadata": {},
   "outputs": [
    {
     "data": {
      "text/plain": [
       "{'year': '2016',\n",
       " 'donor': 'Mercer Family Foundation',\n",
       " 'grantee': 'The Becket Fund',\n",
       " 'amount': '$250,000'}"
      ]
     },
     "execution_count": 11,
     "metadata": {},
     "output_type": "execute_result"
    }
   ],
   "source": [
    "donation_3"
   ]
  },
  {
   "cell_type": "code",
   "execution_count": 12,
   "id": "29fdba53-83e3-4bbc-9cc4-61011f4dd3ee",
   "metadata": {},
   "outputs": [],
   "source": [
    "donation_4 = {\"year\":\"2012\",\n",
    "             \"donor\":\"Charles Koch Foundation\",\t\n",
    "             \"grantee\":\"The Phillips Foundation\", \n",
    "             \"amount\":\"$25,000\"}"
   ]
  },
  {
   "cell_type": "code",
   "execution_count": 13,
   "id": "5a152374-b020-4269-804e-e9ebd7885333",
   "metadata": {},
   "outputs": [
    {
     "data": {
      "text/plain": [
       "{'year': '2012',\n",
       " 'donor': 'Charles Koch Foundation',\n",
       " 'grantee': 'The Phillips Foundation',\n",
       " 'amount': '$25,000'}"
      ]
     },
     "execution_count": 13,
     "metadata": {},
     "output_type": "execute_result"
    }
   ],
   "source": [
    "donation_4"
   ]
  },
  {
   "cell_type": "code",
   "execution_count": 14,
   "id": "55da2ed6-868b-400f-a9a4-98ae40d66158",
   "metadata": {},
   "outputs": [],
   "source": [
    "donation_5 = {\"year\":\"2017\",\n",
    "             \"donor\":\"Barbara And Barre Seid Foundation\",\t\n",
    "             \"grantee\":\"Boys Scouts of America\", \n",
    "             \"amount\":\"$2,634,600\"}"
   ]
  },
  {
   "cell_type": "code",
   "execution_count": 15,
   "id": "494e2e07-7971-4131-bb62-dc5afffd6264",
   "metadata": {},
   "outputs": [
    {
     "data": {
      "text/plain": [
       "{'year': '2017',\n",
       " 'donor': 'Barbara And Barre Seid Foundation',\n",
       " 'grantee': 'Boys Scouts of America',\n",
       " 'amount': '$2,634,600'}"
      ]
     },
     "execution_count": 15,
     "metadata": {},
     "output_type": "execute_result"
    }
   ],
   "source": [
    "donation_5"
   ]
  },
  {
   "cell_type": "code",
   "execution_count": 16,
   "id": "b2f7677a-429b-4824-9c02-86dbf677d0eb",
   "metadata": {},
   "outputs": [],
   "source": [
    "donations = [donation_1, donation_2, donation_3, donation_4, donation_5]"
   ]
  },
  {
   "cell_type": "code",
   "execution_count": 17,
   "id": "e8e4dbb6-c4de-456e-9edd-24eccb45c3b1",
   "metadata": {},
   "outputs": [
    {
     "data": {
      "text/plain": [
       "[{'year': '2017',\n",
       "  'donor': 'David H Koch Charitable Foundation',\n",
       "  'grantee': 'City Center For Music And Drama',\n",
       "  'amount': '$15,000,000'},\n",
       " {'year': '2013',\n",
       "  'donor': 'Bradley Impact Fund Inc',\n",
       "  'grantee': 'Young Americas Foundation',\n",
       "  'amount': '$11,000'},\n",
       " {'year': '2016',\n",
       "  'donor': 'Mercer Family Foundation',\n",
       "  'grantee': 'The Becket Fund',\n",
       "  'amount': '$250,000'},\n",
       " {'year': '2012',\n",
       "  'donor': 'Charles Koch Foundation',\n",
       "  'grantee': 'The Phillips Foundation',\n",
       "  'amount': '$25,000'},\n",
       " {'year': '2017',\n",
       "  'donor': 'Barbara And Barre Seid Foundation',\n",
       "  'grantee': 'Boys Scouts of America',\n",
       "  'amount': '$2,634,600'}]"
      ]
     },
     "execution_count": 17,
     "metadata": {},
     "output_type": "execute_result"
    }
   ],
   "source": [
    "donations"
   ]
  },
  {
   "cell_type": "code",
   "execution_count": 18,
   "id": "5c42421a-2269-427d-9126-a1130f3fafe1",
   "metadata": {},
   "outputs": [
    {
     "name": "stdout",
     "output_type": "stream",
     "text": [
      "[{'year': '2017', 'donor': 'David H Koch Charitable Foundation', 'grantee': 'City Center For Music And Drama', 'amount': '$15,000,000'}, {'year': '2013', 'donor': 'Bradley Impact Fund Inc', 'grantee': 'Young Americas Foundation', 'amount': '$11,000'}, {'year': '2016', 'donor': 'Mercer Family Foundation', 'grantee': 'The Becket Fund', 'amount': '$250,000'}, {'year': '2012', 'donor': 'Charles Koch Foundation', 'grantee': 'The Phillips Foundation', 'amount': '$25,000'}, {'year': '2017', 'donor': 'Barbara And Barre Seid Foundation', 'grantee': 'Boys Scouts of America', 'amount': '$2,634,600'}]\n"
     ]
    }
   ],
   "source": [
    "## print the list\n",
    "print (donations)"
   ]
  },
  {
   "cell_type": "code",
   "execution_count": 19,
   "id": "d439dd52-e5bc-4ad4-bb51-aa16ebca40b9",
   "metadata": {},
   "outputs": [
    {
     "data": {
      "text/plain": [
       "[{'year': '2017',\n",
       "  'donor': 'David H Koch Charitable Foundation',\n",
       "  'grantee': 'City Center For Music And Drama',\n",
       "  'amount': '$15,000,000'},\n",
       " {'year': '2013',\n",
       "  'donor': 'Bradley Impact Fund Inc',\n",
       "  'grantee': 'Young Americas Foundation',\n",
       "  'amount': '$11,000'},\n",
       " {'year': '2016',\n",
       "  'donor': 'Mercer Family Foundation',\n",
       "  'grantee': 'The Becket Fund',\n",
       "  'amount': '$250,000'},\n",
       " {'year': '2012',\n",
       "  'donor': 'Charles Koch Foundation',\n",
       "  'grantee': 'The Phillips Foundation',\n",
       "  'amount': '$25,000'},\n",
       " {'year': '2017',\n",
       "  'donor': 'Barbara And Barre Seid Foundation',\n",
       "  'grantee': 'Boys Scouts of America',\n",
       "  'amount': '$2,634,600'}]"
      ]
     },
     "execution_count": 19,
     "metadata": {},
     "output_type": "execute_result"
    }
   ],
   "source": [
    "## call the list\n",
    "donations"
   ]
  },
  {
   "cell_type": "code",
   "execution_count": 20,
   "id": "6df6205f-7897-4d33-b81b-c4d93965732f",
   "metadata": {},
   "outputs": [
    {
     "data": {
      "text/plain": [
       "5"
      ]
     },
     "execution_count": 20,
     "metadata": {},
     "output_type": "execute_result"
    }
   ],
   "source": [
    "len(donations)"
   ]
  },
  {
   "cell_type": "code",
   "execution_count": 22,
   "id": "e3c0b806-dca0-4ee1-a0a3-51eac58d306e",
   "metadata": {},
   "outputs": [],
   "source": [
    "disasters = [\n",
    "        \"Landslides\",\n",
    "        \"Earthquake\",\n",
    "        \"Wildfires\",\n",
    "        \"Tornadoes\",\n",
    "        \"Hurricane\",\n",
    "        \"Wind Storm\",\n",
    "        \"Winter Freeze\",\n",
    "        \"Ice Storm\",\n",
    "        \"Drought\",\n",
    "        \"Tsunami\",\n",
    "        \"Flash floods\",\n",
    "        \"Mudslides\",\n",
    "        \"Torrential rainfall\",\n",
    "        \"Riverine floods\",\n",
    "        \"Tidal Surge\"\n",
    "         ]"
   ]
  },
  {
   "cell_type": "code",
   "execution_count": 23,
   "id": "c32514a0-5574-43ab-8948-4f2c34f3af94",
   "metadata": {},
   "outputs": [
    {
     "data": {
      "text/plain": [
       "['Landslides',\n",
       " 'Earthquake',\n",
       " 'Wildfires',\n",
       " 'Tornadoes',\n",
       " 'Hurricane',\n",
       " 'Wind Storm',\n",
       " 'Winter Freeze',\n",
       " 'Ice Storm',\n",
       " 'Drought',\n",
       " 'Tsunami',\n",
       " 'Flash floods',\n",
       " 'Mudslides',\n",
       " 'Torrential rainfall',\n",
       " 'Riverine floods',\n",
       " 'Tidal Surge']"
      ]
     },
     "execution_count": 23,
     "metadata": {},
     "output_type": "execute_result"
    }
   ],
   "source": [
    "disasters"
   ]
  },
  {
   "cell_type": "code",
   "execution_count": 24,
   "id": "1541e3cd-bbf4-4850-acc5-6f4c1bf71dc1",
   "metadata": {},
   "outputs": [
    {
     "data": {
      "text/plain": [
       "'Landslides'"
      ]
     },
     "execution_count": 24,
     "metadata": {},
     "output_type": "execute_result"
    }
   ],
   "source": [
    "## the first item in the list\n",
    "disasters[0]"
   ]
  },
  {
   "cell_type": "code",
   "execution_count": 25,
   "id": "00a68add-0038-4d9f-81fc-ee4cdcc99270",
   "metadata": {},
   "outputs": [
    {
     "data": {
      "text/plain": [
       "'Tidal Surge'"
      ]
     },
     "execution_count": 25,
     "metadata": {},
     "output_type": "execute_result"
    }
   ],
   "source": [
    "## call the penultimate item (without manually counting the number of items)\n",
    "disasters[-1]"
   ]
  },
  {
   "cell_type": "code",
   "execution_count": 28,
   "id": "e91b49f1-167b-4ee6-b2a6-dc123a0e439d",
   "metadata": {},
   "outputs": [],
   "source": [
    "## create a new list called disasters_subset that holds the 3rd to 6th items inclusive\n",
    "disasters_subset = disasters[2:6]"
   ]
  },
  {
   "cell_type": "code",
   "execution_count": 29,
   "id": "23e50475-e077-42d6-94bc-cf80ecc69359",
   "metadata": {},
   "outputs": [
    {
     "data": {
      "text/plain": [
       "['Wildfires', 'Tornadoes', 'Hurricane', 'Wind Storm']"
      ]
     },
     "execution_count": 29,
     "metadata": {},
     "output_type": "execute_result"
    }
   ],
   "source": [
    "disasters_subset"
   ]
  },
  {
   "cell_type": "code",
   "execution_count": 32,
   "id": "294269a3-b9e5-4159-926d-d9677dd01703",
   "metadata": {},
   "outputs": [],
   "source": [
    "## create a new list called disasters_subset2 that holds the 2nd through 8th items\n",
    "disasters_subset2 = disasters[1:8]"
   ]
  },
  {
   "cell_type": "code",
   "execution_count": 31,
   "id": "dd28ca99-34a8-4e7e-ae50-b48c33f551f9",
   "metadata": {},
   "outputs": [
    {
     "data": {
      "text/plain": [
       "['Earthquake',\n",
       " 'Wildfires',\n",
       " 'Tornadoes',\n",
       " 'Hurricane',\n",
       " 'Wind Storm',\n",
       " 'Winter Freeze']"
      ]
     },
     "execution_count": 31,
     "metadata": {},
     "output_type": "execute_result"
    }
   ],
   "source": [
    "disasters_subset2"
   ]
  },
  {
   "cell_type": "code",
   "execution_count": null,
   "id": "a85ed273-8c12-4579-8d1b-5018fdbe11f3",
   "metadata": {},
   "outputs": [],
   "source": []
  }
 ],
 "metadata": {
  "kernelspec": {
   "display_name": "Python 3 (ipykernel)",
   "language": "python",
   "name": "python3"
  },
  "language_info": {
   "codemirror_mode": {
    "name": "ipython",
    "version": 3
   },
   "file_extension": ".py",
   "mimetype": "text/x-python",
   "name": "python",
   "nbconvert_exporter": "python",
   "pygments_lexer": "ipython3",
   "version": "3.12.7"
  }
 },
 "nbformat": 4,
 "nbformat_minor": 5
}
